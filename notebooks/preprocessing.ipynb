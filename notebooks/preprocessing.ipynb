import re
import numpy as np
import pandas as pd
from tensorflow.keras.preprocessing.text import Tokenizer
from tensorflow.keras.preprocessing.sequence import pad_sequences

# Load lines
lines = open('data/movie_lines.txt', encoding='utf-8', errors='ignore').read().split('\n')
conversations = open('data/movie_conversations.txt', encoding='utf-8', errors='ignore').read().split('\n')

# Map ID to text
id2line = {}
for line in lines:
    parts = line.split(" +++$+++ ")
    if len(parts) == 5:
        id2line[parts[0]] = parts[4]

# Get question-answer pairs
qa_pairs = []
for conv in conversations:
    ids = conv.split(" +++$+++ ")[-1].replace("[", "").replace("]", "").replace("'", "").split(", ")
    for i in range(len(ids) - 1):
        qa_pairs.append((id2line[ids[i]], id2line[ids[i+1]]))

# Clean text
def clean_text(text):
    text = text.lower()
    text = re.sub(r"[^a-zA-Z0-9]+", " ", text)
    return text

questions, answers = zip(*qa_pairs)
questions = [clean_text(q) for q in questions]
answers = ["<sos> " + clean_text(a) + " <eos>" for a in answers]

# Tokenize
tokenizer = Tokenizer(num_words=10000, oov_token="<OOV>")
tokenizer.fit_on_texts(questions + answers)
VOCAB_SIZE = len(tokenizer.word_index) + 1

questions_seq = tokenizer.texts_to_sequences(questions)
answers_seq = tokenizer.texts_to_sequences(answers)

max_len = 20
questions_padded = pad_sequences(questions_seq, maxlen=max_len, padding='post')
answers_padded = pad_sequences(answers_seq, maxlen=max_len, padding='post')

np.savez("data/processed_data.npz", 
         questions=questions_padded, 
         answers=answers_padded, 
         word_index=tokenizer.word_index)
